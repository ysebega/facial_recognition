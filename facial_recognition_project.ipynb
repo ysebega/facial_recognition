{
 "cells": [
  {
   "cell_type": "markdown",
   "metadata": {},
   "source": [
    "<h1>Assessment Project</h1>\n",
    "\n",
    "Submitted by: <b>Yanda Sebega</b>\n",
    "\n",
    "Date: <b>24-Dec-2021</b>\n",
    "\n",
    "Module: Advanced Deep Learning and Computer Vision (by <b>Nikhil Garg</b>)\n",
    "\n",
    "Institution: <b>Simplilearn Solutions</b>"
   ]
  },
  {
   "cell_type": "markdown",
   "metadata": {},
   "source": [
    "<h2> 1. Input the required libraries </h2>"
   ]
  },
  {
   "cell_type": "code",
   "execution_count": 1,
   "metadata": {},
   "outputs": [],
   "source": [
    "import numpy as np\n",
    "import pandas as pd\n",
    "import matplotlib.pyplot as plt\n",
    "from sklearn.model_selection import train_test_split\n",
    "\n",
    "import tensorflow\n",
    "from tensorflow.keras.optimizers import Adam\n",
    "\n",
    "import keras\n",
    "from keras.models import Sequential\n",
    "from keras.layers import (Conv2D, MaxPooling2D, Dense, Flatten, Dropout)\n"
   ]
  },
  {
   "cell_type": "markdown",
   "metadata": {},
   "source": [
    "<h2> 2. Load the dataset after loading the dataset, you have to normalize every image.</h2>\n"
   ]
  },
  {
   "cell_type": "code",
   "execution_count": 2,
   "metadata": {},
   "outputs": [],
   "source": [
    "# load the dataset\n",
    "data = np.load('ORL_faces.npz')"
   ]
  },
  {
   "cell_type": "code",
   "execution_count": 3,
   "metadata": {},
   "outputs": [
    {
     "name": "stdout",
     "output_type": "stream",
     "text": [
      "['testY', 'testX', 'trainX', 'trainY']\n"
     ]
    }
   ],
   "source": [
    "print(data.files)"
   ]
  },
  {
   "cell_type": "code",
   "execution_count": 4,
   "metadata": {},
   "outputs": [],
   "source": [
    "# normalize every image\n",
    "# train split\n",
    "x_train = np.array(data['trainX'], dtype = 'float32')/255\n",
    "\n",
    "# test split\n",
    "x_test = np.array(data['testX'], dtype = 'float32')/255\n",
    "\n",
    "# training and test the labels\n",
    "y_train = data['trainY']\n",
    "y_test = data['testY']"
   ]
  },
  {
   "cell_type": "markdown",
   "metadata": {},
   "source": [
    "<h2> 3. Split the dataset </h2> "
   ]
  },
  {
   "cell_type": "code",
   "execution_count": 5,
   "metadata": {},
   "outputs": [],
   "source": [
    "# split the dataset into training and validation sets using train_test_split from sklearn\n",
    "x_train, x_val, y_train, y_val = train_test_split(x_train, y_train, test_size=.05, random_state=777)"
   ]
  },
  {
   "cell_type": "code",
   "execution_count": 6,
   "metadata": {},
   "outputs": [
    {
     "name": "stdout",
     "output_type": "stream",
     "text": [
      "(228, 10304) (12, 10304) (160, 10304)\n"
     ]
    }
   ],
   "source": [
    "print(x_train.shape, x_val.shape, x_test.shape)"
   ]
  },
  {
   "cell_type": "markdown",
   "metadata": {},
   "source": [
    "<h2> 4. Transform the images to equal sizes to feed in CNN </h2>"
   ]
  },
  {
   "cell_type": "code",
   "execution_count": 7,
   "metadata": {},
   "outputs": [],
   "source": [
    "# image size is 112 by 92...\n",
    "row = 112\n",
    "column = 92\n",
    "img_shape = (row, column, 1)\n",
    "\n",
    "x_train = x_train.reshape(x_train.shape[0], *img_shape)\n",
    "x_test = x_test.reshape(x_test.shape[0], *img_shape)\n",
    "x_val = x_val.reshape(x_val.shape[0], *img_shape)"
   ]
  },
  {
   "cell_type": "code",
   "execution_count": 8,
   "metadata": {},
   "outputs": [
    {
     "name": "stdout",
     "output_type": "stream",
     "text": [
      "(228, 112, 92, 1) (12, 112, 92, 1) (160, 112, 92, 1)\n"
     ]
    }
   ],
   "source": [
    "print(x_train.shape, x_val.shape, x_test.shape)"
   ]
  },
  {
   "cell_type": "markdown",
   "metadata": {},
   "source": [
    "<h2> 5. Build a CNN model that has 3 main layers: </h2>"
   ]
  },
  {
   "cell_type": "code",
   "execution_count": 9,
   "metadata": {},
   "outputs": [],
   "source": [
    "# define im_shape...above\n",
    "model = Sequential([\n",
    "    Conv2D(filters=36, kernel_size=7, activation='relu', input_shape=img_shape), \n",
    "    MaxPooling2D(pool_size=2), \n",
    "    Conv2D(filters=54, kernel_size=5, activation='relu', input_shape=img_shape), \n",
    "    MaxPooling2D(pool_size=2),\n",
    "    Flatten(),\n",
    "    Dense(2024, activation='relu'), \n",
    "    Dropout(0.5),\n",
    "    Dense(1024, activation='relu'), \n",
    "    Dropout(0.5),\n",
    "    Dense(512, activation='relu'), \n",
    "    Dropout(0.5),\n",
    "    Dense(20, activation='softmax')\n",
    "])"
   ]
  },
  {
   "cell_type": "code",
   "execution_count": 20,
   "metadata": {},
   "outputs": [
    {
     "name": "stdout",
     "output_type": "stream",
     "text": [
      "Model: \"sequential\"\n",
      "_________________________________________________________________\n",
      " Layer (type)                Output Shape              Param #   \n",
      "=================================================================\n",
      " conv2d (Conv2D)             (None, 106, 86, 36)       1800      \n",
      "                                                                 \n",
      " max_pooling2d (MaxPooling2D  (None, 53, 43, 36)       0         \n",
      " )                                                               \n",
      "                                                                 \n",
      " conv2d_1 (Conv2D)           (None, 49, 39, 54)        48654     \n",
      "                                                                 \n",
      " max_pooling2d_1 (MaxPooling  (None, 24, 19, 54)       0         \n",
      " 2D)                                                             \n",
      "                                                                 \n",
      " flatten (Flatten)           (None, 24624)             0         \n",
      "                                                                 \n",
      " dense (Dense)               (None, 2024)              49841000  \n",
      "                                                                 \n",
      " dropout (Dropout)           (None, 2024)              0         \n",
      "                                                                 \n",
      " dense_1 (Dense)             (None, 1024)              2073600   \n",
      "                                                                 \n",
      " dropout_1 (Dropout)         (None, 1024)              0         \n",
      "                                                                 \n",
      " dense_2 (Dense)             (None, 512)               524800    \n",
      "                                                                 \n",
      " dropout_2 (Dropout)         (None, 512)               0         \n",
      "                                                                 \n",
      " dense_3 (Dense)             (None, 20)                10260     \n",
      "                                                                 \n",
      "=================================================================\n",
      "Total params: 52,500,114\n",
      "Trainable params: 52,500,114\n",
      "Non-trainable params: 0\n",
      "_________________________________________________________________\n"
     ]
    }
   ],
   "source": [
    "model.summary()"
   ]
  },
  {
   "cell_type": "markdown",
   "metadata": {},
   "source": [
    "<h2> 6. Train the model </h2>"
   ]
  },
  {
   "cell_type": "code",
   "execution_count": 10,
   "metadata": {},
   "outputs": [],
   "source": [
    "model.compile(\n",
    "    loss='sparse_categorical_crossentropy', \n",
    "    optimizer=Adam(learning_rate=0.0001),\n",
    "    metrics=['accuracy']\n",
    ")"
   ]
  },
  {
   "cell_type": "code",
   "execution_count": 11,
   "metadata": {},
   "outputs": [
    {
     "name": "stdout",
     "output_type": "stream",
     "text": [
      "Epoch 1/113\n",
      "1/1 [==============================] - 6s 6s/step - loss: 2.9805 - accuracy: 0.0658 - val_loss: 3.0162 - val_accuracy: 0.0833\n",
      "Epoch 2/113\n",
      "1/1 [==============================] - 5s 5s/step - loss: 3.0120 - accuracy: 0.0570 - val_loss: 3.0158 - val_accuracy: 0.0000e+00\n",
      "Epoch 3/113\n",
      "1/1 [==============================] - 5s 5s/step - loss: 2.9999 - accuracy: 0.0351 - val_loss: 3.0028 - val_accuracy: 0.0000e+00\n",
      "Epoch 4/113\n",
      "1/1 [==============================] - 4s 4s/step - loss: 3.0271 - accuracy: 0.0570 - val_loss: 2.9943 - val_accuracy: 0.0000e+00\n",
      "Epoch 5/113\n",
      "1/1 [==============================] - 5s 5s/step - loss: 3.0078 - accuracy: 0.0570 - val_loss: 2.9829 - val_accuracy: 0.0833\n",
      "Epoch 6/113\n",
      "1/1 [==============================] - 5s 5s/step - loss: 3.0003 - accuracy: 0.0702 - val_loss: 2.9726 - val_accuracy: 0.1667\n",
      "Epoch 7/113\n",
      "1/1 [==============================] - 5s 5s/step - loss: 2.9793 - accuracy: 0.0658 - val_loss: 2.9661 - val_accuracy: 0.0833\n",
      "Epoch 8/113\n",
      "1/1 [==============================] - 6s 6s/step - loss: 2.9678 - accuracy: 0.0658 - val_loss: 2.9634 - val_accuracy: 0.0833\n",
      "Epoch 9/113\n",
      "1/1 [==============================] - 6s 6s/step - loss: 3.0107 - accuracy: 0.0746 - val_loss: 2.9614 - val_accuracy: 0.1667\n",
      "Epoch 10/113\n",
      "1/1 [==============================] - 6s 6s/step - loss: 2.9679 - accuracy: 0.0702 - val_loss: 2.9619 - val_accuracy: 0.1667\n",
      "Epoch 11/113\n",
      "1/1 [==============================] - 6s 6s/step - loss: 2.9771 - accuracy: 0.0614 - val_loss: 2.9610 - val_accuracy: 0.1667\n",
      "Epoch 12/113\n",
      "1/1 [==============================] - 6s 6s/step - loss: 2.9884 - accuracy: 0.0614 - val_loss: 2.9589 - val_accuracy: 0.1667\n",
      "Epoch 13/113\n",
      "1/1 [==============================] - 6s 6s/step - loss: 2.9930 - accuracy: 0.0570 - val_loss: 2.9589 - val_accuracy: 0.1667\n",
      "Epoch 14/113\n",
      "1/1 [==============================] - 5s 5s/step - loss: 2.9387 - accuracy: 0.0965 - val_loss: 2.9573 - val_accuracy: 0.1667\n",
      "Epoch 15/113\n",
      "1/1 [==============================] - 5s 5s/step - loss: 2.9635 - accuracy: 0.0482 - val_loss: 2.9545 - val_accuracy: 0.1667\n",
      "Epoch 16/113\n",
      "1/1 [==============================] - 6s 6s/step - loss: 2.9598 - accuracy: 0.0614 - val_loss: 2.9517 - val_accuracy: 0.0833\n",
      "Epoch 17/113\n",
      "1/1 [==============================] - 6s 6s/step - loss: 2.9445 - accuracy: 0.0921 - val_loss: 2.9476 - val_accuracy: 0.0833\n",
      "Epoch 18/113\n",
      "1/1 [==============================] - 7s 7s/step - loss: 2.9303 - accuracy: 0.1009 - val_loss: 2.9427 - val_accuracy: 0.0833\n",
      "Epoch 19/113\n",
      "1/1 [==============================] - 6s 6s/step - loss: 2.9319 - accuracy: 0.1140 - val_loss: 2.9375 - val_accuracy: 0.1667\n",
      "Epoch 20/113\n",
      "1/1 [==============================] - 6s 6s/step - loss: 2.9369 - accuracy: 0.0965 - val_loss: 2.9321 - val_accuracy: 0.1667\n",
      "Epoch 21/113\n",
      "1/1 [==============================] - 7s 7s/step - loss: 2.9286 - accuracy: 0.1184 - val_loss: 2.9252 - val_accuracy: 0.0833\n",
      "Epoch 22/113\n",
      "1/1 [==============================] - 5s 5s/step - loss: 2.9142 - accuracy: 0.1272 - val_loss: 2.9166 - val_accuracy: 0.2500\n",
      "Epoch 23/113\n",
      "1/1 [==============================] - 5s 5s/step - loss: 2.9228 - accuracy: 0.1009 - val_loss: 2.9051 - val_accuracy: 0.3333\n",
      "Epoch 24/113\n",
      "1/1 [==============================] - 5s 5s/step - loss: 2.8974 - accuracy: 0.1404 - val_loss: 2.8936 - val_accuracy: 0.4167\n",
      "Epoch 25/113\n",
      "1/1 [==============================] - 5s 5s/step - loss: 2.8798 - accuracy: 0.1360 - val_loss: 2.8825 - val_accuracy: 0.4167\n",
      "Epoch 26/113\n",
      "1/1 [==============================] - 5s 5s/step - loss: 2.8968 - accuracy: 0.1228 - val_loss: 2.8699 - val_accuracy: 0.2500\n",
      "Epoch 27/113\n",
      "1/1 [==============================] - 5s 5s/step - loss: 2.8509 - accuracy: 0.1272 - val_loss: 2.8529 - val_accuracy: 0.2500\n",
      "Epoch 28/113\n",
      "1/1 [==============================] - 5s 5s/step - loss: 2.8367 - accuracy: 0.1535 - val_loss: 2.8326 - val_accuracy: 0.3333\n",
      "Epoch 29/113\n",
      "1/1 [==============================] - 5s 5s/step - loss: 2.8232 - accuracy: 0.2061 - val_loss: 2.8097 - val_accuracy: 0.3333\n",
      "Epoch 30/113\n",
      "1/1 [==============================] - 5s 5s/step - loss: 2.8213 - accuracy: 0.2325 - val_loss: 2.7850 - val_accuracy: 0.3333\n",
      "Epoch 31/113\n",
      "1/1 [==============================] - 5s 5s/step - loss: 2.7830 - accuracy: 0.2105 - val_loss: 2.7566 - val_accuracy: 0.4167\n",
      "Epoch 32/113\n",
      "1/1 [==============================] - 5s 5s/step - loss: 2.7694 - accuracy: 0.1711 - val_loss: 2.7221 - val_accuracy: 0.4167\n",
      "Epoch 33/113\n",
      "1/1 [==============================] - 5s 5s/step - loss: 2.7172 - accuracy: 0.2105 - val_loss: 2.6835 - val_accuracy: 0.4167\n",
      "Epoch 34/113\n",
      "1/1 [==============================] - 6s 6s/step - loss: 2.7201 - accuracy: 0.2105 - val_loss: 2.6420 - val_accuracy: 0.4167\n",
      "Epoch 35/113\n",
      "1/1 [==============================] - 5s 5s/step - loss: 2.7257 - accuracy: 0.2368 - val_loss: 2.5993 - val_accuracy: 0.4167\n",
      "Epoch 36/113\n",
      "1/1 [==============================] - 5s 5s/step - loss: 2.6349 - accuracy: 0.2544 - val_loss: 2.5549 - val_accuracy: 0.5000\n",
      "Epoch 37/113\n",
      "1/1 [==============================] - 6s 6s/step - loss: 2.6373 - accuracy: 0.2675 - val_loss: 2.5036 - val_accuracy: 0.5833\n",
      "Epoch 38/113\n",
      "1/1 [==============================] - 6s 6s/step - loss: 2.6743 - accuracy: 0.2368 - val_loss: 2.4552 - val_accuracy: 0.5000\n",
      "Epoch 39/113\n",
      "1/1 [==============================] - 7s 7s/step - loss: 2.5905 - accuracy: 0.2237 - val_loss: 2.4085 - val_accuracy: 0.5833\n",
      "Epoch 40/113\n",
      "1/1 [==============================] - 6s 6s/step - loss: 2.5760 - accuracy: 0.2325 - val_loss: 2.3641 - val_accuracy: 0.6667\n",
      "Epoch 41/113\n",
      "1/1 [==============================] - 6s 6s/step - loss: 2.5074 - accuracy: 0.3377 - val_loss: 2.3162 - val_accuracy: 0.6667\n",
      "Epoch 42/113\n",
      "1/1 [==============================] - 8s 8s/step - loss: 2.4948 - accuracy: 0.2939 - val_loss: 2.2657 - val_accuracy: 0.7500\n",
      "Epoch 43/113\n",
      "1/1 [==============================] - 7s 7s/step - loss: 2.4204 - accuracy: 0.3333 - val_loss: 2.2035 - val_accuracy: 0.7500\n",
      "Epoch 44/113\n",
      "1/1 [==============================] - 7s 7s/step - loss: 2.3490 - accuracy: 0.3509 - val_loss: 2.1342 - val_accuracy: 0.7500\n",
      "Epoch 45/113\n",
      "1/1 [==============================] - 6s 6s/step - loss: 2.3177 - accuracy: 0.3772 - val_loss: 2.0591 - val_accuracy: 0.7500\n",
      "Epoch 46/113\n",
      "1/1 [==============================] - 6s 6s/step - loss: 2.2332 - accuracy: 0.3772 - val_loss: 1.9766 - val_accuracy: 0.6667\n",
      "Epoch 47/113\n",
      "1/1 [==============================] - 6s 6s/step - loss: 2.1516 - accuracy: 0.4035 - val_loss: 1.8962 - val_accuracy: 0.7500\n",
      "Epoch 48/113\n",
      "1/1 [==============================] - 7s 7s/step - loss: 2.1551 - accuracy: 0.3947 - val_loss: 1.8176 - val_accuracy: 0.7500\n",
      "Epoch 49/113\n",
      "1/1 [==============================] - 7s 7s/step - loss: 2.0398 - accuracy: 0.4518 - val_loss: 1.7317 - val_accuracy: 0.8333\n",
      "Epoch 50/113\n",
      "1/1 [==============================] - 6s 6s/step - loss: 2.0542 - accuracy: 0.3772 - val_loss: 1.6489 - val_accuracy: 0.8333\n",
      "Epoch 51/113\n",
      "1/1 [==============================] - 8s 8s/step - loss: 1.8954 - accuracy: 0.4430 - val_loss: 1.5613 - val_accuracy: 0.8333\n",
      "Epoch 52/113\n",
      "1/1 [==============================] - 7s 7s/step - loss: 1.8497 - accuracy: 0.4912 - val_loss: 1.4703 - val_accuracy: 0.9167\n",
      "Epoch 53/113\n",
      "1/1 [==============================] - 7s 7s/step - loss: 1.8361 - accuracy: 0.4781 - val_loss: 1.3913 - val_accuracy: 0.9167\n",
      "Epoch 54/113\n",
      "1/1 [==============================] - 7s 7s/step - loss: 1.7143 - accuracy: 0.5263 - val_loss: 1.3238 - val_accuracy: 0.9167\n",
      "Epoch 55/113\n",
      "1/1 [==============================] - 6s 6s/step - loss: 1.7604 - accuracy: 0.4605 - val_loss: 1.2552 - val_accuracy: 0.9167\n",
      "Epoch 56/113\n",
      "1/1 [==============================] - 6s 6s/step - loss: 1.6685 - accuracy: 0.4956 - val_loss: 1.1947 - val_accuracy: 0.9167\n",
      "Epoch 57/113\n",
      "1/1 [==============================] - 8s 8s/step - loss: 1.6749 - accuracy: 0.4693 - val_loss: 1.1345 - val_accuracy: 0.9167\n",
      "Epoch 58/113\n",
      "1/1 [==============================] - 7s 7s/step - loss: 1.5024 - accuracy: 0.5746 - val_loss: 1.0665 - val_accuracy: 0.9167\n",
      "Epoch 59/113\n",
      "1/1 [==============================] - 7s 7s/step - loss: 1.4818 - accuracy: 0.5526 - val_loss: 0.9958 - val_accuracy: 0.9167\n"
     ]
    },
    {
     "name": "stdout",
     "output_type": "stream",
     "text": [
      "Epoch 60/113\n",
      "1/1 [==============================] - 6s 6s/step - loss: 1.3839 - accuracy: 0.6140 - val_loss: 0.9113 - val_accuracy: 0.9167\n",
      "Epoch 61/113\n",
      "1/1 [==============================] - 7s 7s/step - loss: 1.3738 - accuracy: 0.6360 - val_loss: 0.8340 - val_accuracy: 0.9167\n",
      "Epoch 62/113\n",
      "1/1 [==============================] - 7s 7s/step - loss: 1.2426 - accuracy: 0.6711 - val_loss: 0.7698 - val_accuracy: 0.9167\n",
      "Epoch 63/113\n",
      "1/1 [==============================] - 7s 7s/step - loss: 1.1492 - accuracy: 0.6667 - val_loss: 0.7073 - val_accuracy: 0.9167\n",
      "Epoch 64/113\n",
      "1/1 [==============================] - 6s 6s/step - loss: 1.0990 - accuracy: 0.6974 - val_loss: 0.6573 - val_accuracy: 0.9167\n",
      "Epoch 65/113\n",
      "1/1 [==============================] - 6s 6s/step - loss: 0.9966 - accuracy: 0.7544 - val_loss: 0.6165 - val_accuracy: 0.9167\n",
      "Epoch 66/113\n",
      "1/1 [==============================] - 6s 6s/step - loss: 1.0408 - accuracy: 0.7018 - val_loss: 0.5905 - val_accuracy: 0.9167\n",
      "Epoch 67/113\n",
      "1/1 [==============================] - 6s 6s/step - loss: 0.9964 - accuracy: 0.6974 - val_loss: 0.5370 - val_accuracy: 0.9167\n",
      "Epoch 68/113\n",
      "1/1 [==============================] - 6s 6s/step - loss: 0.8942 - accuracy: 0.7368 - val_loss: 0.4786 - val_accuracy: 0.9167\n",
      "Epoch 69/113\n",
      "1/1 [==============================] - 5s 5s/step - loss: 0.8577 - accuracy: 0.7588 - val_loss: 0.4291 - val_accuracy: 0.9167\n",
      "Epoch 70/113\n",
      "1/1 [==============================] - 6s 6s/step - loss: 0.7813 - accuracy: 0.7895 - val_loss: 0.4550 - val_accuracy: 0.9167\n",
      "Epoch 71/113\n",
      "1/1 [==============================] - 5s 5s/step - loss: 0.8832 - accuracy: 0.7325 - val_loss: 0.3790 - val_accuracy: 0.9167\n",
      "Epoch 72/113\n",
      "1/1 [==============================] - 5s 5s/step - loss: 0.8098 - accuracy: 0.7412 - val_loss: 0.3125 - val_accuracy: 1.0000\n",
      "Epoch 73/113\n",
      "1/1 [==============================] - 5s 5s/step - loss: 0.7120 - accuracy: 0.7982 - val_loss: 0.2924 - val_accuracy: 1.0000\n",
      "Epoch 74/113\n",
      "1/1 [==============================] - 6s 6s/step - loss: 0.7712 - accuracy: 0.7588 - val_loss: 0.2965 - val_accuracy: 1.0000\n",
      "Epoch 75/113\n",
      "1/1 [==============================] - 6s 6s/step - loss: 0.5946 - accuracy: 0.8509 - val_loss: 0.3177 - val_accuracy: 0.9167\n",
      "Epoch 76/113\n",
      "1/1 [==============================] - 6s 6s/step - loss: 0.6082 - accuracy: 0.8114 - val_loss: 0.3095 - val_accuracy: 0.9167\n",
      "Epoch 77/113\n",
      "1/1 [==============================] - 6s 6s/step - loss: 0.6035 - accuracy: 0.8114 - val_loss: 0.2675 - val_accuracy: 0.9167\n",
      "Epoch 78/113\n",
      "1/1 [==============================] - 6s 6s/step - loss: 0.6018 - accuracy: 0.8421 - val_loss: 0.2427 - val_accuracy: 1.0000\n",
      "Epoch 79/113\n",
      "1/1 [==============================] - 6s 6s/step - loss: 0.5689 - accuracy: 0.8509 - val_loss: 0.2347 - val_accuracy: 0.9167\n",
      "Epoch 80/113\n",
      "1/1 [==============================] - 6s 6s/step - loss: 0.5451 - accuracy: 0.8246 - val_loss: 0.2484 - val_accuracy: 0.9167\n",
      "Epoch 81/113\n",
      "1/1 [==============================] - 8s 8s/step - loss: 0.5161 - accuracy: 0.8640 - val_loss: 0.2462 - val_accuracy: 0.9167\n",
      "Epoch 82/113\n",
      "1/1 [==============================] - 7s 7s/step - loss: 0.4233 - accuracy: 0.8904 - val_loss: 0.2351 - val_accuracy: 0.9167\n",
      "Epoch 83/113\n",
      "1/1 [==============================] - 6s 6s/step - loss: 0.4911 - accuracy: 0.8640 - val_loss: 0.2115 - val_accuracy: 0.9167\n",
      "Epoch 84/113\n",
      "1/1 [==============================] - 6s 6s/step - loss: 0.3863 - accuracy: 0.9035 - val_loss: 0.1925 - val_accuracy: 0.9167\n",
      "Epoch 85/113\n",
      "1/1 [==============================] - 5s 5s/step - loss: 0.3588 - accuracy: 0.9211 - val_loss: 0.1894 - val_accuracy: 0.9167\n",
      "Epoch 86/113\n",
      "1/1 [==============================] - 5s 5s/step - loss: 0.3822 - accuracy: 0.8816 - val_loss: 0.1906 - val_accuracy: 0.9167\n",
      "Epoch 87/113\n",
      "1/1 [==============================] - 5s 5s/step - loss: 0.3212 - accuracy: 0.9079 - val_loss: 0.1928 - val_accuracy: 0.9167\n",
      "Epoch 88/113\n",
      "1/1 [==============================] - 5s 5s/step - loss: 0.3834 - accuracy: 0.9035 - val_loss: 0.1663 - val_accuracy: 0.9167\n",
      "Epoch 89/113\n",
      "1/1 [==============================] - 6s 6s/step - loss: 0.2934 - accuracy: 0.9254 - val_loss: 0.1287 - val_accuracy: 1.0000\n",
      "Epoch 90/113\n",
      "1/1 [==============================] - 6s 6s/step - loss: 0.3207 - accuracy: 0.9167 - val_loss: 0.1041 - val_accuracy: 1.0000\n",
      "Epoch 91/113\n",
      "1/1 [==============================] - 6s 6s/step - loss: 0.3273 - accuracy: 0.9035 - val_loss: 0.1036 - val_accuracy: 1.0000\n",
      "Epoch 92/113\n",
      "1/1 [==============================] - 6s 6s/step - loss: 0.3375 - accuracy: 0.8860 - val_loss: 0.1201 - val_accuracy: 1.0000\n",
      "Epoch 93/113\n",
      "1/1 [==============================] - 7s 7s/step - loss: 0.2422 - accuracy: 0.9430 - val_loss: 0.1583 - val_accuracy: 0.9167\n",
      "Epoch 94/113\n",
      "1/1 [==============================] - 7s 7s/step - loss: 0.2918 - accuracy: 0.9298 - val_loss: 0.1391 - val_accuracy: 0.9167\n",
      "Epoch 95/113\n",
      "1/1 [==============================] - 7s 7s/step - loss: 0.2493 - accuracy: 0.9298 - val_loss: 0.0911 - val_accuracy: 1.0000\n",
      "Epoch 96/113\n",
      "1/1 [==============================] - 7s 7s/step - loss: 0.2531 - accuracy: 0.9254 - val_loss: 0.0553 - val_accuracy: 1.0000\n",
      "Epoch 97/113\n",
      "1/1 [==============================] - 6s 6s/step - loss: 0.2484 - accuracy: 0.9518 - val_loss: 0.0525 - val_accuracy: 1.0000\n",
      "Epoch 98/113\n",
      "1/1 [==============================] - 6s 6s/step - loss: 0.2538 - accuracy: 0.9342 - val_loss: 0.0682 - val_accuracy: 1.0000\n",
      "Epoch 99/113\n",
      "1/1 [==============================] - 6s 6s/step - loss: 0.2435 - accuracy: 0.9298 - val_loss: 0.0839 - val_accuracy: 1.0000\n",
      "Epoch 100/113\n",
      "1/1 [==============================] - 6s 6s/step - loss: 0.2420 - accuracy: 0.9386 - val_loss: 0.0964 - val_accuracy: 1.0000\n",
      "Epoch 101/113\n",
      "1/1 [==============================] - 6s 6s/step - loss: 0.1760 - accuracy: 0.9605 - val_loss: 0.0781 - val_accuracy: 1.0000\n",
      "Epoch 102/113\n",
      "1/1 [==============================] - 5s 5s/step - loss: 0.1691 - accuracy: 0.9605 - val_loss: 0.0498 - val_accuracy: 1.0000\n",
      "Epoch 103/113\n",
      "1/1 [==============================] - 5s 5s/step - loss: 0.1444 - accuracy: 0.9605 - val_loss: 0.0374 - val_accuracy: 1.0000\n",
      "Epoch 104/113\n",
      "1/1 [==============================] - 5s 5s/step - loss: 0.1634 - accuracy: 0.9737 - val_loss: 0.0354 - val_accuracy: 1.0000\n",
      "Epoch 105/113\n",
      "1/1 [==============================] - 6s 6s/step - loss: 0.1896 - accuracy: 0.9298 - val_loss: 0.0398 - val_accuracy: 1.0000\n",
      "Epoch 106/113\n",
      "1/1 [==============================] - 6s 6s/step - loss: 0.1165 - accuracy: 0.9868 - val_loss: 0.0505 - val_accuracy: 1.0000\n",
      "Epoch 107/113\n",
      "1/1 [==============================] - 6s 6s/step - loss: 0.1276 - accuracy: 0.9781 - val_loss: 0.0577 - val_accuracy: 1.0000\n",
      "Epoch 108/113\n",
      "1/1 [==============================] - 6s 6s/step - loss: 0.1730 - accuracy: 0.9649 - val_loss: 0.0607 - val_accuracy: 1.0000\n",
      "Epoch 109/113\n",
      "1/1 [==============================] - 6s 6s/step - loss: 0.1709 - accuracy: 0.9605 - val_loss: 0.0372 - val_accuracy: 1.0000\n",
      "Epoch 110/113\n",
      "1/1 [==============================] - 6s 6s/step - loss: 0.1304 - accuracy: 0.9649 - val_loss: 0.0248 - val_accuracy: 1.0000\n",
      "Epoch 111/113\n",
      "1/1 [==============================] - 7s 7s/step - loss: 0.1268 - accuracy: 0.9781 - val_loss: 0.0212 - val_accuracy: 1.0000\n",
      "Epoch 112/113\n",
      "1/1 [==============================] - 6s 6s/step - loss: 0.1293 - accuracy: 0.9693 - val_loss: 0.0247 - val_accuracy: 1.0000\n",
      "Epoch 113/113\n",
      "1/1 [==============================] - 6s 6s/step - loss: 0.1122 - accuracy: 0.9737 - val_loss: 0.0281 - val_accuracy: 1.0000\n"
     ]
    }
   ],
   "source": [
    "history = model.fit(\n",
    "    np.array(x_train), \n",
    "    np.array(y_train), \n",
    "    batch_size=512, \n",
    "    epochs=113, \n",
    "    verbose=1, \n",
    "    validation_data=(np.array(x_val), np.array(y_val)))"
   ]
  },
  {
   "cell_type": "code",
   "execution_count": 22,
   "metadata": {},
   "outputs": [
    {
     "name": "stdout",
     "output_type": "stream",
     "text": [
      "5/5 [==============================] - 1s 190ms/step - loss: 0.2938 - accuracy: 0.9438\n"
     ]
    }
   ],
   "source": [
    "# evaluate the model using the test set.\n",
    "evaluate = model.evaluate(np.array(x_test), np.array(y_test), verbose=1)"
   ]
  },
  {
   "cell_type": "markdown",
   "metadata": {},
   "source": [
    "<h2> 7. Plot the result </h2>"
   ]
  },
  {
   "cell_type": "code",
   "execution_count": 12,
   "metadata": {},
   "outputs": [
    {
     "name": "stdout",
     "output_type": "stream",
     "text": [
      "dict_keys(['loss', 'accuracy', 'val_loss', 'val_accuracy'])\n"
     ]
    }
   ],
   "source": [
    "print(history.history.keys())"
   ]
  },
  {
   "cell_type": "code",
   "execution_count": 13,
   "metadata": {},
   "outputs": [
    {
     "data": {
      "image/png": "[encoded data removed]",
      "text/plain": [
       "<Figure size 432x288 with 1 Axes>"
      ]
     },
     "metadata": {
      "needs_background": "light"
     },
     "output_type": "display_data"
    },
    {
     "data": {
      "image/png": "[encoded data removed]",
      "text/plain": [
       "<Figure size 432x288 with 1 Axes>"
      ]
     },
     "metadata": {
      "needs_background": "light"
     },
     "output_type": "display_data"
    }
   ],
   "source": [
    "# Plotting...\n",
    "val_acc = accuracy = history.history['val_accuracy']\n",
    "accuracy = history.history['accuracy']\n",
    "\n",
    "val_loss = accuracy = history.history['val_loss']\n",
    "loss = history.history['loss']\n",
    "\n",
    "# accuracy\n",
    "plt.plot(accuracy)\n",
    "plt.plot(val_acc)\n",
    "plt.title('Model Accuracy')\n",
    "plt.xlabel('Epoch')\n",
    "plt.ylabel('Accuracy')\n",
    "plt.legend(['train', 'test'], loc='best')\n",
    "plt.show()\n",
    "# loss\n",
    "\n",
    "plt.plot(loss)\n",
    "plt.plot(val_loss)\n",
    "plt.title('Model Loss')\n",
    "plt.xlabel('Epoch')\n",
    "plt.ylabel('Loss')\n",
    "plt.legend(['train', 'test'], loc='best')\n",
    "plt.show()"
   ]
  }
 ],
 "metadata": {
  "kernelspec": {
   "display_name": "Python 3",
   "language": "python",
   "name": "python3"
  },
  "language_info": {
   "codemirror_mode": {
    "name": "ipython",
    "version": 3
   },
   "file_extension": ".py",
   "mimetype": "text/x-python",
   "name": "python",
   "nbconvert_exporter": "python",
   "pygments_lexer": "ipython3",
   "version": "3.7.6"
  }
 },
 "nbformat": 4,
 "nbformat_minor": 4
}
